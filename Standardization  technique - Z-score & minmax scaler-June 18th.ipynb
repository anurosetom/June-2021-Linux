{
 "cells": [
  {
   "cell_type": "code",
   "execution_count": 1,
   "id": "sapphire-animation",
   "metadata": {},
   "outputs": [
    {
     "data": {
      "text/plain": [
       "array([-1.58113883,  0.07905694,  0.63245553,  1.18585412,  1.18585412,\n",
       "       -1.02774024, -0.47434165])"
      ]
     },
     "execution_count": 1,
     "metadata": {},
     "output_type": "execute_result"
    }
   ],
   "source": [
    "import numpy as np\n",
    "x=[1,4,5,6,6,2,3]\n",
    "\n",
    "x_np=np.array(x)\n",
    "z_score=(x_np-x_np.mean())/x_np.std()#x-x bar/std deviation\n",
    "z_score"
   ]
  },
  {
   "cell_type": "code",
   "execution_count": 9,
   "id": "pleasant-mechanics",
   "metadata": {},
   "outputs": [
    {
     "name": "stdout",
     "output_type": "stream",
     "text": [
      "[-1.58113883  0.07905694  0.63245553  1.18585412  1.18585412 -1.02774024\n",
      " -0.47434165]\n",
      "1.185854122563142\n",
      "-1.5811388300841895\n"
     ]
    }
   ],
   "source": [
    "print(z_score)\n",
    "print(z_score.max())\n",
    "print(z_score.min())"
   ]
  },
  {
   "cell_type": "code",
   "execution_count": 10,
   "id": "thorough-machinery",
   "metadata": {},
   "outputs": [
    {
     "data": {
      "text/plain": [
       "array([0. , 0.6, 0.8, 1. , 1. , 0.2, 0.4])"
      ]
     },
     "execution_count": 10,
     "metadata": {},
     "output_type": "execute_result"
    }
   ],
   "source": [
    "minmax=(x_np-x_np.min())/(x_np.max()-x_np.min())\n",
    "minmax"
   ]
  },
  {
   "cell_type": "code",
   "execution_count": 5,
   "id": "annual-northeast",
   "metadata": {},
   "outputs": [
    {
     "data": {
      "text/html": [
       "<div>\n",
       "<style scoped>\n",
       "    .dataframe tbody tr th:only-of-type {\n",
       "        vertical-align: middle;\n",
       "    }\n",
       "\n",
       "    .dataframe tbody tr th {\n",
       "        vertical-align: top;\n",
       "    }\n",
       "\n",
       "    .dataframe thead th {\n",
       "        text-align: right;\n",
       "    }\n",
       "</style>\n",
       "<table border=\"1\" class=\"dataframe\">\n",
       "  <thead>\n",
       "    <tr style=\"text-align: right;\">\n",
       "      <th></th>\n",
       "      <th>Class label</th>\n",
       "      <th>Alcohol</th>\n",
       "      <th>Malic acid</th>\n",
       "    </tr>\n",
       "  </thead>\n",
       "  <tbody>\n",
       "    <tr>\n",
       "      <th>0</th>\n",
       "      <td>1</td>\n",
       "      <td>14.23</td>\n",
       "      <td>1.71</td>\n",
       "    </tr>\n",
       "    <tr>\n",
       "      <th>1</th>\n",
       "      <td>1</td>\n",
       "      <td>13.20</td>\n",
       "      <td>1.78</td>\n",
       "    </tr>\n",
       "    <tr>\n",
       "      <th>2</th>\n",
       "      <td>1</td>\n",
       "      <td>13.16</td>\n",
       "      <td>2.36</td>\n",
       "    </tr>\n",
       "    <tr>\n",
       "      <th>3</th>\n",
       "      <td>1</td>\n",
       "      <td>14.37</td>\n",
       "      <td>1.95</td>\n",
       "    </tr>\n",
       "    <tr>\n",
       "      <th>4</th>\n",
       "      <td>1</td>\n",
       "      <td>13.24</td>\n",
       "      <td>2.59</td>\n",
       "    </tr>\n",
       "    <tr>\n",
       "      <th>...</th>\n",
       "      <td>...</td>\n",
       "      <td>...</td>\n",
       "      <td>...</td>\n",
       "    </tr>\n",
       "    <tr>\n",
       "      <th>173</th>\n",
       "      <td>3</td>\n",
       "      <td>13.71</td>\n",
       "      <td>5.65</td>\n",
       "    </tr>\n",
       "    <tr>\n",
       "      <th>174</th>\n",
       "      <td>3</td>\n",
       "      <td>13.40</td>\n",
       "      <td>3.91</td>\n",
       "    </tr>\n",
       "    <tr>\n",
       "      <th>175</th>\n",
       "      <td>3</td>\n",
       "      <td>13.27</td>\n",
       "      <td>4.28</td>\n",
       "    </tr>\n",
       "    <tr>\n",
       "      <th>176</th>\n",
       "      <td>3</td>\n",
       "      <td>13.17</td>\n",
       "      <td>2.59</td>\n",
       "    </tr>\n",
       "    <tr>\n",
       "      <th>177</th>\n",
       "      <td>3</td>\n",
       "      <td>14.13</td>\n",
       "      <td>4.10</td>\n",
       "    </tr>\n",
       "  </tbody>\n",
       "</table>\n",
       "<p>178 rows × 3 columns</p>\n",
       "</div>"
      ],
      "text/plain": [
       "     Class label  Alcohol  Malic acid\n",
       "0              1    14.23        1.71\n",
       "1              1    13.20        1.78\n",
       "2              1    13.16        2.36\n",
       "3              1    14.37        1.95\n",
       "4              1    13.24        2.59\n",
       "..           ...      ...         ...\n",
       "173            3    13.71        5.65\n",
       "174            3    13.40        3.91\n",
       "175            3    13.27        4.28\n",
       "176            3    13.17        2.59\n",
       "177            3    14.13        4.10\n",
       "\n",
       "[178 rows x 3 columns]"
      ]
     },
     "execution_count": 5,
     "metadata": {},
     "output_type": "execute_result"
    }
   ],
   "source": [
    "import pandas as pd\n",
    "df=pd.read_csv('/home/anu/Downloads/Wine.csv',header=None,usecols=[0,1,2])\n",
    "df.columns=['Class label','Alcohol','Malic acid']\n",
    "df"
   ]
  },
  {
   "cell_type": "markdown",
   "id": "incorrect-brazil",
   "metadata": {},
   "source": [
    "# fit_transform in standard scaler-> finding mean,sd and x values\n",
    "    #transform values into [0-1] range"
   ]
  },
  {
   "cell_type": "code",
   "execution_count": 13,
   "id": "induced-interference",
   "metadata": {},
   "outputs": [
    {
     "name": "stdout",
     "output_type": "stream",
     "text": [
      "StandardScaler()\n",
      "==========\n",
      "Mean value of Alcohol:13.00,           Malic Acid 2.34\n",
      "Mean after standardization:Alcohol=-0.00,Malic Acid=-0.00\n",
      "\n",
      "Max value of Alcohol:14.83,           Malic Acid 5.80\n",
      "Max after standardization:Alcohol=2.26,           Malic Acid=3.11\n",
      "\n",
      "MinMaxScaler()\n",
      "==========\n",
      "Mean value of Alcohol:13.00,           Malic Acid 2.34\n",
      "Mean after standardization:Alcohol=0.52,Malic Acid=0.32\n",
      "\n",
      "Max value of Alcohol:14.83,           Malic Acid 5.80\n",
      "Max after standardization:Alcohol=1.00,           Malic Acid=1.00\n",
      "\n"
     ]
    }
   ],
   "source": [
    "from sklearn.preprocessing import StandardScaler,MinMaxScaler\n",
    "\n",
    "for i in [StandardScaler(),MinMaxScaler()]:\n",
    "    scale=i.fit_transform(df[[\"Alcohol\",\"Malic acid\"]])\n",
    "    #fit_transform in standard scaler-> finding mean,sd and x values\n",
    "    #transform values into 0-1 range\n",
    "    print(f\"{i}\")\n",
    "    print(\"==========\")\n",
    "    \n",
    "    print(f\"Mean value of Alcohol:{df['Alcohol'].mean():.2f},\\\n",
    "           Malic Acid {df['Malic acid'].mean():.2f}\")\n",
    "    print(f\"Mean after standardization:Alcohol={scale[:,0].mean():.2f},Malic Acid={scale[:,1].mean():.2f}\")\n",
    "    \n",
    "    print()\n",
    "    \n",
    "    print(f\"Max value of Alcohol:{df['Alcohol'].max():.2f},\\\n",
    "           Malic Acid {df['Malic acid'].max():.2f}\")\n",
    "    print(f\"Max after standardization:Alcohol={scale[:,0].max():.2f},\\\n",
    "           Malic Acid={scale[:,1].max():.2f}\")\n",
    "    print()"
   ]
  },
  {
   "cell_type": "code",
   "execution_count": 14,
   "id": "industrial-species",
   "metadata": {},
   "outputs": [
    {
     "data": {
      "image/png": "[encoded data removed]",
      "text/plain": [
       "<Figure size 576x432 with 1 Axes>"
      ]
     },
     "metadata": {
      "needs_background": "light"
     },
     "output_type": "display_data"
    }
   ],
   "source": [
    "import matplotlib.pyplot as plt\n",
    "from sklearn import preprocessing\n",
    "\n",
    "std_scale=preprocessing.StandardScaler().fit_transform(df[['Alcohol','Malic acid']])\n",
    "min_max_scale=preprocessing.MinMaxScaler().fit_transform(df[['Alcohol','Malic acid']])\n",
    "\n",
    "def plot():\n",
    "    plt.figure(figsize=(8,6))\n",
    "    \n",
    "    plt.scatter(df['Alcohol'],df['Malic acid'],\n",
    "               color='green',label='input_scale',alpha=0.3)\n",
    "    plt.scatter(std_scale[:,0],std_scale[:,1],\n",
    "               color='red',label='Zscore [(mu=0,sigma=1)]',alpha=0.5)\n",
    "    \n",
    "    plt.scatter(min_max_scale[:,0],min_max_scale[:,1],\n",
    "               color='blue',label='min-max scaled[min=0, max=1]',alpha=0.3)\n",
    "    \n",
    "    plt.title('Alcohol and malic acid content of the wine dataset')\n",
    "    plt.xlabel('Alcohol')\n",
    "    plt.ylabel('Malic acid')\n",
    "    plt.legend(loc='upper left')#for information box alignment \n",
    "    plt.grid()\n",
    "    \n",
    "    plt.tight_layout()\n",
    "    \n",
    "plot()\n",
    "plt.show()"
   ]
  },
  {
   "cell_type": "code",
   "execution_count": null,
   "id": "reliable-alliance",
   "metadata": {},
   "outputs": [],
   "source": [
    "#Green points(value which is not standardized) comes in 10.0 to 15.0 range of alcohol\n",
    "#Red points (zscored ones) comes in -2.5 to 2.5 range\n",
    "#Blue points(min max scaled) comes in 0.0 to 2.5 and between 0 & 1"
   ]
  }
 ],
 "metadata": {
  "kernelspec": {
   "display_name": "Python 3",
   "language": "python",
   "name": "python3"
  },
  "language_info": {
   "codemirror_mode": {
    "name": "ipython",
    "version": 3
   },
   "file_extension": ".py",
   "mimetype": "text/x-python",
   "name": "python",
   "nbconvert_exporter": "python",
   "pygments_lexer": "ipython3",
   "version": "3.8.8"
  }
 },
 "nbformat": 4,
 "nbformat_minor": 5
}
