{
 "cells": [
  {
   "cell_type": "code",
   "execution_count": null,
   "id": "velvet-carry",
   "metadata": {},
   "outputs": [],
   "source": [
    "#87% problem get solved when we use decision tree\n",
    "\n",
    "#whether he loves action movies or not\n",
    "# root node is unknown initially\n",
    "#so we use one by one\n",
    "#1st we build tree using columns 1st 2 columns\n",
    "#ie, loves popcorn(root) -> loves action movies + not loves action movies "
   ]
  },
  {
   "cell_type": "code",
   "execution_count": null,
   "id": "nasty-baker",
   "metadata": {},
   "outputs": [],
   "source": [
    "#Entropy(Its a metric) :- is an impurity measuring index.\n",
    "#If there is too much randomness, it can be lead to overfitting\n",
    "\n",
    "#Entropy is more efficient that gini impurity\n",
    "Entropy = -()\n",
    "\n",
    "\n",
    "#INformation gain is calculate- by comparing the entropy by splitting \n",
    "Information gain = H(s)- sigma(Sample in a particular leaf/total samples)"
   ]
  },
  {
   "cell_type": "code",
   "execution_count": null,
   "id": "needed-hamburg",
   "metadata": {},
   "outputs": [],
   "source": [
    "#Pruning:-\n",
    "#finding rss for each pruned tree using training data\n",
    "\n",
    "#Tree score -> based on rss for each tree\n",
    "\n",
    "  #Tree score=rss+alpha*T\n",
    "  #T =>n.o of leaves\n",
    "\n",
    "#[We will take the tree which have lowest tree score]"
   ]
  }
 ],
 "metadata": {
  "kernelspec": {
   "display_name": "Python 3",
   "language": "python",
   "name": "python3"
  },
  "language_info": {
   "codemirror_mode": {
    "name": "ipython",
    "version": 3
   },
   "file_extension": ".py",
   "mimetype": "text/x-python",
   "name": "python",
   "nbconvert_exporter": "python",
   "pygments_lexer": "ipython3",
   "version": "3.8.8"
  }
 },
 "nbformat": 4,
 "nbformat_minor": 5
}
