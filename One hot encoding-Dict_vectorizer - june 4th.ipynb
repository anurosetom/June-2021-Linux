{
 "cells": [
  {
   "cell_type": "code",
   "execution_count": 2,
   "id": "danish-breakfast",
   "metadata": {},
   "outputs": [
    {
     "data": {
      "text/plain": [
       "[{'city': 'New York'},\n",
       " {'city': 'San Francisco'},\n",
       " {'city': 'Chapel Hill'},\n",
       " {'city': 'Coster dam'}]"
      ]
     },
     "execution_count": 2,
     "metadata": {},
     "output_type": "execute_result"
    }
   ],
   "source": [
    "from sklearn.feature_extraction import DictVectorizer\n",
    "instances = [\n",
    "{'city': 'New York'},\n",
    "{'city': 'San Francisco'},\n",
    "{'city': 'Chapel Hill'}, \n",
    "{'city': 'Coster dam'}] \n",
    "\n",
    "instances"
   ]
  },
  {
   "cell_type": "code",
   "execution_count": 3,
   "id": "premier-divorce",
   "metadata": {},
   "outputs": [
    {
     "name": "stdout",
     "output_type": "stream",
     "text": [
      "[[1. 0. 0. 0.]\n",
      " [0. 1. 0. 0.]\n",
      " [0. 0. 1. 0.]\n",
      " [0. 0. 0. 1.]]\n"
     ]
    }
   ],
   "source": [
    "onehot_encoder=DictVectorizer(sort=False)\n",
    "print(onehot_encoder.fit_transform(instances).toarray())\n",
    "#data stored in the form 4bit data(4 bit is based on the number of values)\n",
    "#here is total 4 places"
   ]
  },
  {
   "cell_type": "code",
   "execution_count": 4,
   "id": "norwegian-cisco",
   "metadata": {},
   "outputs": [
    {
     "name": "stdout",
     "output_type": "stream",
     "text": [
      "{'city=New York': 0, 'city=San Francisco': 1, 'city=Chapel Hill': 2, 'city=Coster dam': 3}\n"
     ]
    }
   ],
   "source": [
    "print(onehot_encoder.vocabulary_)"
   ]
  },
  {
   "cell_type": "code",
   "execution_count": null,
   "id": "psychological-headquarters",
   "metadata": {},
   "outputs": [],
   "source": []
  }
 ],
 "metadata": {
  "kernelspec": {
   "display_name": "Python 3",
   "language": "python",
   "name": "python3"
  },
  "language_info": {
   "codemirror_mode": {
    "name": "ipython",
    "version": 3
   },
   "file_extension": ".py",
   "mimetype": "text/x-python",
   "name": "python",
   "nbconvert_exporter": "python",
   "pygments_lexer": "ipython3",
   "version": "3.8.8"
  }
 },
 "nbformat": 4,
 "nbformat_minor": 5
}
