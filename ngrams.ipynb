{
 "cells": [
  {
   "cell_type": "code",
   "execution_count": 3,
   "id": "laden-score",
   "metadata": {},
   "outputs": [
    {
     "name": "stdout",
     "output_type": "stream",
     "text": [
      "1-gram: ['A', 'class', 'is', 'a', 'blueprint', 'for', 'the', 'object', '.']\n",
      "2-gram: ['A class', 'class is', 'is a', 'a blueprint', 'blueprint for', 'for the', 'the object', 'object .']\n",
      "3-gram: ['A class is', 'class is a', 'is a blueprint', 'a blueprint for', 'blueprint for the', 'for the object', 'the object .']\n",
      "4-gram: ['A class is a', 'class is a blueprint', 'is a blueprint for', 'a blueprint for the', 'blueprint for the object', 'for the object .']\n"
     ]
    }
   ],
   "source": [
    "import nltk\n",
    "from nltk.util import ngrams\n",
    "\n",
    "def extract_ngrams(data,num):\n",
    "    n_grams=ngrams(nltk.word_tokenize(data),num)\n",
    "    return[' '.join(grams)for grams in n_grams]\n",
    "data='A class is a blueprint for the object.'\n",
    "\n",
    "print(\"1-gram:\",extract_ngrams(data,1))\n",
    "print(\"2-gram:\",extract_ngrams(data,2))\n",
    "print(\"3-gram:\",extract_ngrams(data,3))\n",
    "print(\"4-gram:\",extract_ngrams(data,4))"
   ]
  },
  {
   "cell_type": "code",
   "execution_count": 4,
   "id": "eligible-hampshire",
   "metadata": {},
   "outputs": [
    {
     "name": "stdout",
     "output_type": "stream",
     "text": [
      "(3, 8)\n",
      "[[1 1 0 1 0 0 0 1]\n",
      " [0 1 1 0 1 0 0 1]\n",
      " [0 1 0 0 0 1 1 1]]\n",
      "\n"
     ]
    },
    {
     "data": {
      "text/html": [
       "<div>\n",
       "<style scoped>\n",
       "    .dataframe tbody tr th:only-of-type {\n",
       "        vertical-align: middle;\n",
       "    }\n",
       "\n",
       "    .dataframe tbody tr th {\n",
       "        vertical-align: top;\n",
       "    }\n",
       "\n",
       "    .dataframe thead th {\n",
       "        text-align: right;\n",
       "    }\n",
       "</style>\n",
       "<table border=\"1\" class=\"dataframe\">\n",
       "  <thead>\n",
       "    <tr style=\"text-align: right;\">\n",
       "      <th></th>\n",
       "      <th>first sentence</th>\n",
       "      <th>is the</th>\n",
       "      <th>second sentence</th>\n",
       "      <th>the first</th>\n",
       "      <th>the second</th>\n",
       "      <th>the third</th>\n",
       "      <th>third sentence</th>\n",
       "      <th>this is</th>\n",
       "    </tr>\n",
       "  </thead>\n",
       "  <tbody>\n",
       "    <tr>\n",
       "      <th>0</th>\n",
       "      <td>1</td>\n",
       "      <td>1</td>\n",
       "      <td>0</td>\n",
       "      <td>1</td>\n",
       "      <td>0</td>\n",
       "      <td>0</td>\n",
       "      <td>0</td>\n",
       "      <td>1</td>\n",
       "    </tr>\n",
       "    <tr>\n",
       "      <th>1</th>\n",
       "      <td>0</td>\n",
       "      <td>1</td>\n",
       "      <td>1</td>\n",
       "      <td>0</td>\n",
       "      <td>1</td>\n",
       "      <td>0</td>\n",
       "      <td>0</td>\n",
       "      <td>1</td>\n",
       "    </tr>\n",
       "    <tr>\n",
       "      <th>2</th>\n",
       "      <td>0</td>\n",
       "      <td>1</td>\n",
       "      <td>0</td>\n",
       "      <td>0</td>\n",
       "      <td>0</td>\n",
       "      <td>1</td>\n",
       "      <td>1</td>\n",
       "      <td>1</td>\n",
       "    </tr>\n",
       "  </tbody>\n",
       "</table>\n",
       "</div>"
      ],
      "text/plain": [
       "   first sentence  is the  second sentence  the first  the second  the third  \\\n",
       "0               1       1                0          1           0          0   \n",
       "1               0       1                1          0           1          0   \n",
       "2               0       1                0          0           0          1   \n",
       "\n",
       "   third sentence  this is  \n",
       "0               0        1  \n",
       "1               0        1  \n",
       "2               1        1  "
      ]
     },
     "execution_count": 4,
     "metadata": {},
     "output_type": "execute_result"
    }
   ],
   "source": [
    "from sklearn.feature_extraction.text import CountVectorizer\n",
    "\n",
    "data = ['This is the first sentence',\n",
    "'This is the second sentence',\n",
    "'This is the third sentence']\n",
    "\n",
    "cv=CountVectorizer(ngram_range=(2,2))\n",
    "x=cv.fit_transform(data)\n",
    "print(x.shape)\n",
    "print(x.toarray())\n",
    "print()\n",
    "\n",
    "import pandas as pd\n",
    "df=pd.DataFrame(x.todense(),columns=cv.get_feature_names())\n",
    "df"
   ]
  },
  {
   "cell_type": "code",
   "execution_count": 4,
   "id": "ancient-staff",
   "metadata": {},
   "outputs": [
    {
     "data": {
      "text/html": [
       "<div>\n",
       "<style scoped>\n",
       "    .dataframe tbody tr th:only-of-type {\n",
       "        vertical-align: middle;\n",
       "    }\n",
       "\n",
       "    .dataframe tbody tr th {\n",
       "        vertical-align: top;\n",
       "    }\n",
       "\n",
       "    .dataframe thead th {\n",
       "        text-align: right;\n",
       "    }\n",
       "</style>\n",
       "<table border=\"1\" class=\"dataframe\">\n",
       "  <thead>\n",
       "    <tr style=\"text-align: right;\">\n",
       "      <th></th>\n",
       "      <th>0</th>\n",
       "    </tr>\n",
       "  </thead>\n",
       "  <tbody>\n",
       "    <tr>\n",
       "      <th>0</th>\n",
       "      <td>(0, 3)\\t0.5773502691896257\\n  (0, 5)\\t0.5773...</td>\n",
       "    </tr>\n",
       "    <tr>\n",
       "      <th>1</th>\n",
       "      <td>(0, 7)\\t0.5493512310263033\\n  (0, 6)\\t0.4177...</td>\n",
       "    </tr>\n",
       "    <tr>\n",
       "      <th>2</th>\n",
       "      <td>(0, 8)\\t0.4673509818107163\\n  (0, 1)\\t0.4673...</td>\n",
       "    </tr>\n",
       "  </tbody>\n",
       "</table>\n",
       "</div>"
      ],
      "text/plain": [
       "                                                   0\n",
       "0    (0, 3)\\t0.5773502691896257\\n  (0, 5)\\t0.5773...\n",
       "1    (0, 7)\\t0.5493512310263033\\n  (0, 6)\\t0.4177...\n",
       "2    (0, 8)\\t0.4673509818107163\\n  (0, 1)\\t0.4673..."
      ]
     },
     "execution_count": 4,
     "metadata": {},
     "output_type": "execute_result"
    }
   ],
   "source": [
    "from sklearn.feature_extraction.text import TfidfVectorizer\n",
    "import pandas as pd\n",
    "\n",
    "texts={\n",
    "    \"good movie\",\"not a good movie\",\"did not like\"\n",
    "}\n",
    "\n",
    "tfidf=TfidfVectorizer(ngram_range=(1,2))\n",
    "features=tfidf.fit_transform(texts)\n",
    "features.todense()\n",
    "columns=tfidf.get_feature_names()\n",
    "\n",
    "a=pd.DataFrame(columns)\n",
    "a\n",
    "b=pd.DataFrame(features)\n",
    "b"
   ]
  },
  {
   "cell_type": "code",
   "execution_count": null,
   "id": "positive-extent",
   "metadata": {},
   "outputs": [],
   "source": []
  }
 ],
 "metadata": {
  "kernelspec": {
   "display_name": "Python 3",
   "language": "python",
   "name": "python3"
  },
  "language_info": {
   "codemirror_mode": {
    "name": "ipython",
    "version": 3
   },
   "file_extension": ".py",
   "mimetype": "text/x-python",
   "name": "python",
   "nbconvert_exporter": "python",
   "pygments_lexer": "ipython3",
   "version": "3.8.8"
  }
 },
 "nbformat": 4,
 "nbformat_minor": 5
}
