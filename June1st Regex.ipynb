{
 "cells": [
  {
   "cell_type": "code",
   "execution_count": 1,
   "id": "relative-sustainability",
   "metadata": {
    "scrolled": true
   },
   "outputs": [],
   "source": [
    "import nltk\n",
    "#nltk.download('averaged_perceptron_tagger') "
   ]
  },
  {
   "cell_type": "code",
   "execution_count": 2,
   "id": "pretty-metadata",
   "metadata": {
    "scrolled": true
   },
   "outputs": [
    {
     "name": "stdout",
     "output_type": "stream",
     "text": [
      "I\n",
      "am\n",
      "gather\n",
      "ingredi\n",
      "for\n",
      "the\n",
      "sandwich\n",
      ".\n",
      "there\n",
      "were\n",
      "mani\n",
      "wizard\n",
      "at\n",
      "the\n",
      "gather\n",
      ".\n"
     ]
    }
   ],
   "source": [
    "corpus = [\n",
    "'I am gathering ingredients for the sandwich.',\n",
    "'There were many wizards at the gathering.'\n",
    "]\n",
    "corpus \n",
    "\n",
    "from nltk.stem import PorterStemmer\n",
    "from nltk.stem.wordnet import WordNetLemmatizer\n",
    "from nltk import word_tokenize,sent_tokenize\n",
    "from nltk import pos_tag\n",
    "\n",
    "stemmer =PorterStemmer()\n",
    "for document in corpus:\n",
    "    for token in word_tokenize(document):\n",
    "        print(stemmer.stem(token))"
   ]
  },
  {
   "cell_type": "code",
   "execution_count": 3,
   "id": "awful-liverpool",
   "metadata": {
    "scrolled": true
   },
   "outputs": [
    {
     "name": "stdout",
     "output_type": "stream",
     "text": [
      "Stemmed o/p: [['there', 'there', 'were', 'were', 'mani', 'mani', 'wizard', 'wizard', 'at', 'at', 'the', 'the', 'gather', 'gather', '.', '.']]\n"
     ]
    }
   ],
   "source": [
    "#faster method\n",
    "print('Stemmed o/p:',[[stemmer.stem(token) for token in word_tokenize(document) for document in corpus]])"
   ]
  },
  {
   "cell_type": "code",
   "execution_count": 22,
   "id": "radical-preserve",
   "metadata": {},
   "outputs": [
    {
     "name": "stdout",
     "output_type": "stream",
     "text": [
      "Stemmed output: [['I', 'am', 'gather', 'ingredi', 'for', 'the', 'sandwich', '.'], ['there', 'were', 'mani', 'wizard', 'at', 'the', 'gather', '.']]\n"
     ]
    }
   ],
   "source": [
    "#corrected code\n",
    "print('Stemmed output:',[[stemmer.stem (token) for token in word_tokenize(document)] for document in corpus]) "
   ]
  },
  {
   "cell_type": "code",
   "execution_count": 4,
   "id": "personal-aggregate",
   "metadata": {
    "scrolled": true
   },
   "outputs": [
    {
     "name": "stdout",
     "output_type": "stream",
     "text": [
      "lemmatized o/p: [['There', 'There', 'were', 'were', 'many', 'many', 'wizard', 'wizard', 'at', 'at', 'the', 'the', 'gathering', 'gathering', '.', '.']]\n"
     ]
    }
   ],
   "source": [
    "lemmatizer = WordNetLemmatizer()\n",
    "print('lemmatized o/p:',[[lemmatizer.lemmatize(token) for token in word_tokenize(document) for document in corpus]])"
   ]
  },
  {
   "cell_type": "code",
   "execution_count": 5,
   "id": "abroad-footwear",
   "metadata": {},
   "outputs": [
    {
     "data": {
      "text/plain": [
       "[[('I', 'PRP'),\n",
       "  ('am', 'VBP'),\n",
       "  ('gathering', 'VBG'),\n",
       "  ('ingredients', 'NNS'),\n",
       "  ('for', 'IN'),\n",
       "  ('the', 'DT'),\n",
       "  ('sandwich', 'NN'),\n",
       "  ('.', '.')],\n",
       " [('There', 'EX'),\n",
       "  ('were', 'VBD'),\n",
       "  ('many', 'JJ'),\n",
       "  ('wizards', 'NNS'),\n",
       "  ('at', 'IN'),\n",
       "  ('the', 'DT'),\n",
       "  ('gathering', 'NN'),\n",
       "  ('.', '.')]]"
      ]
     },
     "execution_count": 5,
     "metadata": {},
     "output_type": "execute_result"
    }
   ],
   "source": [
    "tag_corpus = [pos_tag(word_tokenize(document))for document in corpus]\n",
    "tag_corpus"
   ]
  },
  {
   "cell_type": "code",
   "execution_count": 6,
   "id": "canadian-sterling",
   "metadata": {},
   "outputs": [],
   "source": [
    "import nltk\n",
    "from nltk.stem import PorterStemmer"
   ]
  },
  {
   "cell_type": "code",
   "execution_count": 7,
   "id": "pacific-advisory",
   "metadata": {},
   "outputs": [],
   "source": [
    "paragraph = \"\"\"I have three visions for India. In 3000 years of our history, people from all over \n",
    "               the world have come and invaded us, captured our lands, conquered our minds. \n",
    "               From Alexander onwards, the Greeks, the Turks, the Moguls, the Portuguese, the British,\n",
    "               the French, the Dutch, all of them came and looted us, took over what was ours. \n",
    "               Yet we have not done this to any other nation. We have not conquered anyone. \n",
    "               We have not grabbed their land, their culture, \n",
    "               their history and tried to enforce our way of life on them. \n",
    "               Why? Because we respect the freedom of others.That is why my \n",
    "               first vision is that of freedom. I believe that India got its first vision of \n",
    "               this in 1857, when we started the War of Independence. It is this freedom that\n",
    "               we must protect and nurture and build on. If we are not free, no one will respect us.\n",
    "               My second vision for India’s development. For fifty years we have been a developing nation.\n",
    "               It is time we see ourselves as a developed nation. We are among the top 5 nations of the world\n",
    "               in terms of GDP. We have a 10 percent growth rate in most areas. Our poverty levels are falling.\n",
    "               Our achievements are being globally recognised today. Yet we lack the self-confidence to\n",
    "               see ourselves as a developed nation, self-reliant and self-assured. Isn’t this incorrect?\n",
    "               I have a third vision. India must stand up to the world. Because I believe that unless India \n",
    "               stands up to the world, no one will respect us. Only strength respects strength. We must be \n",
    "               strong not only as a military power but also as an economic power. Both must go hand-in-hand. \n",
    "               My good fortune was to have worked with three great minds. Dr. Vikram Sarabhai of the Dept. of \n",
    "               space, Professor Satish Dhawan, who succeeded him and Dr. Brahm Prakash, father of nuclear material.\n",
    "               I was lucky to have worked with all three of them closely and consider this the great opportunity of my life. \n",
    "               I see four milestones in my career\"\"\""
   ]
  },
  {
   "cell_type": "code",
   "execution_count": 8,
   "id": "sufficient-corruption",
   "metadata": {},
   "outputs": [
    {
     "data": {
      "text/plain": [
       "31"
      ]
     },
     "execution_count": 8,
     "metadata": {},
     "output_type": "execute_result"
    }
   ],
   "source": [
    "sentences =nltk.sent_tokenize(paragraph)\n",
    "stemmer=PorterStemmer()\n",
    "len(sentences)"
   ]
  },
  {
   "cell_type": "code",
   "execution_count": 9,
   "id": "olive-architect",
   "metadata": {},
   "outputs": [
    {
     "name": "stdout",
     "output_type": "stream",
     "text": [
      "179\n",
      "{\"wasn't\", 'at', 'more', 'both', 'up', 'when', 'during', 'me', 'hers', 'did', 'yourself', 'your', 'of', 'don', 'she', \"weren't\", 'most', 'against', \"she's\", 'because', 'further', 'under', 'all', 'other', 'it', 'y', 'some', \"you'll\", \"you'd\", 'being', 'have', 'this', 'down', \"shan't\", \"that'll\", \"didn't\", 'as', 'needn', 'i', 'wouldn', 'shouldn', 'that', 'while', 'didn', 'isn', 'after', 't', 'through', 'am', 'in', 'by', 're', \"should've\", 'until', 'will', 'we', 'itself', 'can', 'mustn', 'himself', 'before', 'whom', 'off', 'now', 'o', \"you've\", 'are', 'ours', 'into', 'not', 'had', 'my', \"isn't\", 'what', 'shan', 'hadn', 'just', 'aren', 'too', 'to', 'couldn', 'mightn', 'yours', \"mightn't\", 'why', 'on', 'his', \"haven't\", 'such', 'does', 'so', 'any', 'her', 'an', 'should', \"hasn't\", 'its', 'but', \"couldn't\", 'haven', 'between', 'our', 'you', 'each', 'out', 'same', 'here', 'then', 'than', 'own', 'ain', 'those', 'about', \"wouldn't\", 'were', 'again', 'nor', \"shouldn't\", 'who', 'there', \"won't\", 'be', 'no', \"don't\", 'their', 'has', 'only', 'and', 'was', 'where', 'theirs', 'having', 'very', 'the', 'he', 'do', 'd', \"needn't\", 'wasn', 'ourselves', 'they', 'been', 'over', 'll', 'doesn', 'them', 'herself', 'hasn', 'once', \"aren't\", 've', 'from', 'which', 'for', 'themselves', 'a', 'or', 'with', 'myself', 's', \"doesn't\", \"it's\", 'is', \"you're\", 'below', 'how', 'him', 'few', 'doing', 'above', 'yourselves', 'weren', 'm', 'ma', \"mustn't\", \"hadn't\", 'these', 'won', 'if'}\n"
     ]
    }
   ],
   "source": [
    "from nltk.corpus import stopwords\n",
    "import nltk\n",
    "\n",
    "stop_words=set(stopwords.words('english'))#can also check french,greek etc\n",
    "print(len(stop_words))\n",
    "print(stop_words)"
   ]
  },
  {
   "cell_type": "code",
   "execution_count": 10,
   "id": "passing-scheme",
   "metadata": {},
   "outputs": [],
   "source": [
    "for i in range(len(sentences)):\n",
    "    words = nltk.word_tokenize(sentences[i]) #\n",
    "    words = [stemmer.stem(word)for word in words if word not in set(stopwords.words('english'))]\n",
    "    sentences[i]= ' '.join(words)"
   ]
  },
  {
   "cell_type": "code",
   "execution_count": 11,
   "id": "palestinian-carrier",
   "metadata": {},
   "outputs": [
    {
     "data": {
      "text/plain": [
       "['I three vision india .',\n",
       " 'In 3000 year histori , peopl world come invad us , captur land , conquer mind .',\n",
       " 'from alexand onward , greek , turk , mogul , portugues , british , french , dutch , came loot us , took .',\n",
       " 'yet done nation .',\n",
       " 'We conquer anyon .',\n",
       " 'We grab land , cultur , histori tri enforc way life .',\n",
       " 'whi ?',\n",
       " 'becaus respect freedom others.that first vision freedom .',\n",
       " 'I believ india got first vision 1857 , start war independ .',\n",
       " 'It freedom must protect nurtur build .',\n",
       " 'If free , one respect us .',\n",
       " 'My second vision india ’ develop .',\n",
       " 'for fifti year develop nation .',\n",
       " 'It time see develop nation .',\n",
       " 'We among top 5 nation world term gdp .',\n",
       " 'We 10 percent growth rate area .',\n",
       " 'our poverti level fall .',\n",
       " 'our achiev global recognis today .',\n",
       " 'yet lack self-confid see develop nation , self-reli self-assur .',\n",
       " 'isn ’ incorrect ?',\n",
       " 'I third vision .',\n",
       " 'india must stand world .',\n",
       " 'becaus I believ unless india stand world , one respect us .',\n",
       " 'onli strength respect strength .',\n",
       " 'We must strong militari power also econom power .',\n",
       " 'both must go hand-in-hand .',\n",
       " 'My good fortun work three great mind .',\n",
       " 'dr. vikram sarabhai dept .',\n",
       " 'space , professor satish dhawan , succeed dr. brahm prakash , father nuclear materi .',\n",
       " 'I lucki work three close consid great opportun life .',\n",
       " 'I see four mileston career']"
      ]
     },
     "execution_count": 11,
     "metadata": {},
     "output_type": "execute_result"
    }
   ],
   "source": [
    "sentences"
   ]
  },
  {
   "cell_type": "code",
   "execution_count": 12,
   "id": "conservative-mounting",
   "metadata": {},
   "outputs": [
    {
     "data": {
      "text/plain": [
       "31"
      ]
     },
     "execution_count": 12,
     "metadata": {},
     "output_type": "execute_result"
    }
   ],
   "source": [
    "sentences =nltk.sent_tokenize(paragraph)\n",
    "lemmatizer=WordNetLemmatizer()\n",
    "len(sentences)"
   ]
  },
  {
   "cell_type": "code",
   "execution_count": 13,
   "id": "likely-negative",
   "metadata": {},
   "outputs": [],
   "source": [
    "for i in range(len(sentences)):\n",
    "    words = nltk.word_tokenize(sentences[i]) #\n",
    "    words = [lemmatizer.lemmatize(word) for word in words if word not in set(stopwords.words('english'))]\n",
    "    sentences[i]= ' '.join(words)"
   ]
  },
  {
   "cell_type": "code",
   "execution_count": 14,
   "id": "contained-return",
   "metadata": {},
   "outputs": [
    {
     "data": {
      "text/plain": [
       "['I three vision India .',\n",
       " 'In 3000 year history , people world come invaded u , captured land , conquered mind .',\n",
       " 'From Alexander onwards , Greeks , Turks , Moguls , Portuguese , British , French , Dutch , came looted u , took .',\n",
       " 'Yet done nation .',\n",
       " 'We conquered anyone .',\n",
       " 'We grabbed land , culture , history tried enforce way life .',\n",
       " 'Why ?',\n",
       " 'Because respect freedom others.That first vision freedom .',\n",
       " 'I believe India got first vision 1857 , started War Independence .',\n",
       " 'It freedom must protect nurture build .',\n",
       " 'If free , one respect u .',\n",
       " 'My second vision India ’ development .',\n",
       " 'For fifty year developing nation .',\n",
       " 'It time see developed nation .',\n",
       " 'We among top 5 nation world term GDP .',\n",
       " 'We 10 percent growth rate area .',\n",
       " 'Our poverty level falling .',\n",
       " 'Our achievement globally recognised today .',\n",
       " 'Yet lack self-confidence see developed nation , self-reliant self-assured .',\n",
       " 'Isn ’ incorrect ?',\n",
       " 'I third vision .',\n",
       " 'India must stand world .',\n",
       " 'Because I believe unless India stand world , one respect u .',\n",
       " 'Only strength respect strength .',\n",
       " 'We must strong military power also economic power .',\n",
       " 'Both must go hand-in-hand .',\n",
       " 'My good fortune worked three great mind .',\n",
       " 'Dr. Vikram Sarabhai Dept .',\n",
       " 'space , Professor Satish Dhawan , succeeded Dr. Brahm Prakash , father nuclear material .',\n",
       " 'I lucky worked three closely consider great opportunity life .',\n",
       " 'I see four milestone career']"
      ]
     },
     "execution_count": 14,
     "metadata": {},
     "output_type": "execute_result"
    }
   ],
   "source": [
    "sentences"
   ]
  },
  {
   "cell_type": "markdown",
   "id": "important-destination",
   "metadata": {},
   "source": [
    "# Home wrok part - done by me->also refer Regular exp in NLP - Home work-June 3rd"
   ]
  },
  {
   "cell_type": "code",
   "execution_count": 15,
   "id": "sophisticated-hudson",
   "metadata": {},
   "outputs": [],
   "source": [
    "import re"
   ]
  },
  {
   "cell_type": "code",
   "execution_count": 16,
   "id": "dried-productivity",
   "metadata": {},
   "outputs": [
    {
     "data": {
      "text/plain": [
       "'I have three visions for India. In years of our history people from all over the world have come and invaded us captured our lands conquered our minds. From Alexander onwards the Greeks the Turks the Moguls the Portuguese the British the French the Dutch all of them came and looted us took over what was ours. Yet we have not done this to any other nation. We have not conquered anyone. We have not grabbed their land their culture their history and tried to enforce our way of life on them. Why Because we respect the freedom of others.That is why my first vision is that of freedom. I believe that India got its first vision of this in when we started the War of Independence. It is this freedom that we must protect and nurture and build on. If we are not free no one will respect us. My second vision for India’s development. For fifty years we have been a developing nation. It is time we see ourselves as a developed nation. We are among the top nations of the world in terms of GDP. We have a percent growth rate in most areas. Our poverty levels are falling. Our achievements are being globally recognised today. Yet we lack the self confidence to see ourselves as a developed nation self reliant and self assured. Isn’t this incorrect I have a third vision. India must stand up to the world. Because I believe that unless India stands up to the world no one will respect us. Only strength respects strength. We must be strong not only as a military power but also as an economic power. Both must go hand in hand. My good fortune was to have worked with three great minds. Dr. Vikram Sarabhai of the Dept. of space Professor Satish Dhawan who succeeded him and Dr. Brahm Prakash father of nuclear material. I was lucky to have worked with all three of them closely and consider this the great opportunity of my life. I see four milestones in my career'"
      ]
     },
     "execution_count": 16,
     "metadata": {},
     "output_type": "execute_result"
    }
   ],
   "source": [
    "#print(\" \".join(re.split('[;,\\s,\\d,.,\\-,?_]+',paragraph)))\n",
    "mystring=\" \".join(re.split('[;,\\s,\\d,\\-,?_]+',paragraph))\n",
    "mystring\n",
    "#Removed unwanted characters except dot"
   ]
  },
  {
   "cell_type": "code",
   "execution_count": 17,
   "id": "comparable-brand",
   "metadata": {},
   "outputs": [
    {
     "data": {
      "text/plain": [
       "'i have three visions for india. in years of our history people from all over the world have come and invaded us captured our lands conquered our minds. from alexander onwards the greeks the turks the moguls the portuguese the british the french the dutch all of them came and looted us took over what was ours. yet we have not done this to any other nation. we have not conquered anyone. we have not grabbed their land their culture their history and tried to enforce our way of life on them. why because we respect the freedom of others.that is why my first vision is that of freedom. i believe that india got its first vision of this in when we started the war of independence. it is this freedom that we must protect and nurture and build on. if we are not free no one will respect us. my second vision for india’s development. for fifty years we have been a developing nation. it is time we see ourselves as a developed nation. we are among the top nations of the world in terms of gdp. we have a percent growth rate in most areas. our poverty levels are falling. our achievements are being globally recognised today. yet we lack the self confidence to see ourselves as a developed nation self reliant and self assured. isn’t this incorrect i have a third vision. india must stand up to the world. because i believe that unless india stands up to the world no one will respect us. only strength respects strength. we must be strong not only as a military power but also as an economic power. both must go hand in hand. my good fortune was to have worked with three great minds. dr. vikram sarabhai of the dept. of space professor satish dhawan who succeeded him and dr. brahm prakash father of nuclear material. i was lucky to have worked with all three of them closely and consider this the great opportunity of my life. i see four milestones in my career'"
      ]
     },
     "execution_count": 17,
     "metadata": {},
     "output_type": "execute_result"
    }
   ],
   "source": [
    "#print(mystring.lower())\n",
    "lower_string=mystring.lower()\n",
    "lower_string\n",
    "#Lowering the letters"
   ]
  },
  {
   "cell_type": "code",
   "execution_count": 18,
   "id": "dramatic-twist",
   "metadata": {},
   "outputs": [
    {
     "data": {
      "text/plain": [
       "['i have three visions for india.',\n",
       " 'in years of our history people from all over the world have come and invaded us captured our lands conquered our minds.',\n",
       " 'from alexander onwards the greeks the turks the moguls the portuguese the british the french the dutch all of them came and looted us took over what was ours.',\n",
       " 'yet we have not done this to any other nation.',\n",
       " 'we have not conquered anyone.',\n",
       " 'we have not grabbed their land their culture their history and tried to enforce our way of life on them.',\n",
       " 'why because we respect the freedom of others.that is why my first vision is that of freedom.',\n",
       " 'i believe that india got its first vision of this in when we started the war of independence.',\n",
       " 'it is this freedom that we must protect and nurture and build on.',\n",
       " 'if we are not free no one will respect us.',\n",
       " 'my second vision for india’s development.',\n",
       " 'for fifty years we have been a developing nation.',\n",
       " 'it is time we see ourselves as a developed nation.',\n",
       " 'we are among the top nations of the world in terms of gdp.',\n",
       " 'we have a percent growth rate in most areas.',\n",
       " 'our poverty levels are falling.',\n",
       " 'our achievements are being globally recognised today.',\n",
       " 'yet we lack the self confidence to see ourselves as a developed nation self reliant and self assured.',\n",
       " 'isn’t this incorrect i have a third vision.',\n",
       " 'india must stand up to the world.',\n",
       " 'because i believe that unless india stands up to the world no one will respect us.',\n",
       " 'only strength respects strength.',\n",
       " 'we must be strong not only as a military power but also as an economic power.',\n",
       " 'both must go hand in hand.',\n",
       " 'my good fortune was to have worked with three great minds.',\n",
       " 'dr. vikram sarabhai of the dept.',\n",
       " 'of space professor satish dhawan who succeeded him and dr. brahm prakash father of nuclear material.',\n",
       " 'i was lucky to have worked with all three of them closely and consider this the great opportunity of my life.',\n",
       " 'i see four milestones in my career']"
      ]
     },
     "execution_count": 18,
     "metadata": {},
     "output_type": "execute_result"
    }
   ],
   "source": [
    "#print(sent_tokenize(lower_string))\n",
    "sentence1=sent_tokenize(lower_string)\n",
    "sentence1\n",
    "#Splitting into sentences"
   ]
  },
  {
   "cell_type": "code",
   "execution_count": 19,
   "id": "sitting-suite",
   "metadata": {},
   "outputs": [],
   "source": [
    "for i in range(len(sentence1)):\n",
    "    words = nltk.word_tokenize(sentence1[i]) #\n",
    "    words = [stemmer.stem(word)for word in words if word not in set(stopwords.words('english'))]\n",
    "    sentence1[i]= ' '.join(words)\n",
    "    "
   ]
  },
  {
   "cell_type": "code",
   "execution_count": 20,
   "id": "empty-durham",
   "metadata": {},
   "outputs": [
    {
     "data": {
      "text/plain": [
       "['three vision india .',\n",
       " 'year histori peopl world come invad us captur land conquer mind .',\n",
       " 'alexand onward greek turk mogul portugues british french dutch came loot us took .',\n",
       " 'yet done nation .',\n",
       " 'conquer anyon .',\n",
       " 'grab land cultur histori tri enforc way life .',\n",
       " 'respect freedom others.that first vision freedom .',\n",
       " 'believ india got first vision start war independ .',\n",
       " 'freedom must protect nurtur build .',\n",
       " 'free one respect us .',\n",
       " 'second vision india ’ develop .',\n",
       " 'fifti year develop nation .',\n",
       " 'time see develop nation .',\n",
       " 'among top nation world term gdp .',\n",
       " 'percent growth rate area .',\n",
       " 'poverti level fall .',\n",
       " 'achiev global recognis today .',\n",
       " 'yet lack self confid see develop nation self reliant self assur .',\n",
       " '’ incorrect third vision .',\n",
       " 'india must stand world .',\n",
       " 'believ unless india stand world one respect us .',\n",
       " 'strength respect strength .',\n",
       " 'must strong militari power also econom power .',\n",
       " 'must go hand hand .',\n",
       " 'good fortun work three great mind .',\n",
       " 'dr. vikram sarabhai dept .',\n",
       " 'space professor satish dhawan succeed dr. brahm prakash father nuclear materi .',\n",
       " 'lucki work three close consid great opportun life .',\n",
       " 'see four mileston career']"
      ]
     },
     "execution_count": 20,
     "metadata": {},
     "output_type": "execute_result"
    }
   ],
   "source": [
    "sentence1"
   ]
  },
  {
   "cell_type": "code",
   "execution_count": 21,
   "id": "continent-notice",
   "metadata": {},
   "outputs": [
    {
     "name": "stdout",
     "output_type": "stream",
     "text": [
      "three\n",
      "vision\n",
      "india\n",
      ".\n",
      "year\n",
      "histori\n",
      "peopl\n",
      "world\n",
      "come\n",
      "invad\n",
      "us\n",
      "captur\n",
      "land\n",
      "conquer\n",
      "mind\n",
      ".\n",
      "alexand\n",
      "onward\n",
      "greek\n",
      "turk\n",
      "mogul\n",
      "portugu\n",
      "british\n",
      "french\n",
      "dutch\n",
      "came\n",
      "loot\n",
      "us\n",
      "took\n",
      ".\n",
      "yet\n",
      "done\n",
      "nation\n",
      ".\n",
      "conquer\n",
      "anyon\n",
      ".\n",
      "grab\n",
      "land\n",
      "cultur\n",
      "histori\n",
      "tri\n",
      "enforc\n",
      "way\n",
      "life\n",
      ".\n",
      "respect\n",
      "freedom\n",
      "others.that\n",
      "first\n",
      "vision\n",
      "freedom\n",
      ".\n",
      "believ\n",
      "india\n",
      "got\n",
      "first\n",
      "vision\n",
      "start\n",
      "war\n",
      "independ\n",
      ".\n",
      "freedom\n",
      "must\n",
      "protect\n",
      "nurtur\n",
      "build\n",
      ".\n",
      "free\n",
      "one\n",
      "respect\n",
      "us\n",
      ".\n",
      "second\n",
      "vision\n",
      "india\n",
      "’\n",
      "develop\n",
      ".\n",
      "fifti\n",
      "year\n",
      "develop\n",
      "nation\n",
      ".\n",
      "time\n",
      "see\n",
      "develop\n",
      "nation\n",
      ".\n",
      "among\n",
      "top\n",
      "nation\n",
      "world\n",
      "term\n",
      "gdp\n",
      ".\n",
      "percent\n",
      "growth\n",
      "rate\n",
      "area\n",
      ".\n",
      "poverti\n",
      "level\n",
      "fall\n",
      ".\n",
      "achiev\n",
      "global\n",
      "recogni\n",
      "today\n",
      ".\n",
      "yet\n",
      "lack\n",
      "self\n",
      "confid\n",
      "see\n",
      "develop\n",
      "nation\n",
      "self\n",
      "reliant\n",
      "self\n",
      "assur\n",
      ".\n",
      "’\n",
      "incorrect\n",
      "third\n",
      "vision\n",
      ".\n",
      "india\n",
      "must\n",
      "stand\n",
      "world\n",
      ".\n",
      "believ\n",
      "unless\n",
      "india\n",
      "stand\n",
      "world\n",
      "one\n",
      "respect\n",
      "us\n",
      ".\n",
      "strength\n",
      "respect\n",
      "strength\n",
      ".\n",
      "must\n",
      "strong\n",
      "militari\n",
      "power\n",
      "also\n",
      "econom\n",
      "power\n",
      ".\n",
      "must\n",
      "go\n",
      "hand\n",
      "hand\n",
      ".\n",
      "good\n",
      "fortun\n",
      "work\n",
      "three\n",
      "great\n",
      "mind\n",
      ".\n",
      "dr.\n",
      "vikram\n",
      "sarabhai\n",
      "dept\n",
      ".\n",
      "space\n",
      "professor\n",
      "satish\n",
      "dhawan\n",
      "succeed\n",
      "dr.\n",
      "brahm\n",
      "prakash\n",
      "father\n",
      "nuclear\n",
      "materi\n",
      ".\n",
      "lucki\n",
      "work\n",
      "three\n",
      "close\n",
      "consid\n",
      "great\n",
      "opportun\n",
      "life\n",
      ".\n",
      "see\n",
      "four\n",
      "mileston\n",
      "career\n"
     ]
    }
   ],
   "source": [
    "\n",
    "stemmer =PorterStemmer()\n",
    "for document in sentence1:\n",
    "    for token in word_tokenize(document):\n",
    "        tokens=print(stemmer.stem(token))\n"
   ]
  },
  {
   "cell_type": "code",
   "execution_count": null,
   "id": "forty-consultation",
   "metadata": {},
   "outputs": [],
   "source": []
  },
  {
   "cell_type": "code",
   "execution_count": null,
   "id": "needed-harbor",
   "metadata": {},
   "outputs": [],
   "source": []
  }
 ],
 "metadata": {
  "kernelspec": {
   "display_name": "Python 3",
   "language": "python",
   "name": "python3"
  },
  "language_info": {
   "codemirror_mode": {
    "name": "ipython",
    "version": 3
   },
   "file_extension": ".py",
   "mimetype": "text/x-python",
   "name": "python",
   "nbconvert_exporter": "python",
   "pygments_lexer": "ipython3",
   "version": "3.8.8"
  }
 },
 "nbformat": 4,
 "nbformat_minor": 5
}
