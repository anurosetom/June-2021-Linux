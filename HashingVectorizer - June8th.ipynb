{
 "cells": [
  {
   "cell_type": "code",
   "execution_count": 1,
   "id": "suburban-sponsorship",
   "metadata": {},
   "outputs": [
    {
     "name": "stdout",
     "output_type": "stream",
     "text": [
      "[[0.         0.66666667 0.66666667 0.         0.         0.33333333]\n",
      " [0.37796447 0.75592895 0.37796447 0.         0.         0.37796447]]\n"
     ]
    }
   ],
   "source": [
    "corpus=[\n",
    "    'UNC played Duke in basketball',\n",
    "    'Duke lost the basketball game'\n",
    "]\n",
    "\n",
    "from sklearn.feature_extraction.text import HashingVectorizer\n",
    "\n",
    "vectorizer=HashingVectorizer(n_features=6,alternate_sign=False)\n",
    "print(vectorizer.transform(corpus).toarray())"
   ]
  },
  {
   "cell_type": "markdown",
   "id": "behavioral-retention",
   "metadata": {},
   "source": [
    "# Using hashing vector,we get more weightage for significant values\n",
    "# also number of 0 is less when compared to bag of words"
   ]
  },
  {
   "cell_type": "code",
   "execution_count": 4,
   "id": "intense-emperor",
   "metadata": {},
   "outputs": [
    {
     "name": "stdout",
     "output_type": "stream",
     "text": [
      "[[1 1 0 1 0 1 0 1]\n",
      " [1 1 1 0 1 0 1 0]]\n",
      "{'unc': 7, 'played': 5, 'duke': 1, 'in': 3, 'basketball': 0, 'lost': 4, 'the': 6, 'game': 2}\n"
     ]
    }
   ],
   "source": [
    "#using bag of words\n",
    "from sklearn.feature_extraction.text import CountVectorizer\n",
    "corpus=[\n",
    "    'UNC played Duke in basketball',\n",
    "    'Duke lost the basketball game'\n",
    "]\n",
    "\n",
    "corpus\n",
    "\n",
    "vector=CountVectorizer()\n",
    "    \n",
    "print(vector.fit_transform(corpus).todense())#gives 8-bits since there are 8 unique words\n",
    "#array or todense\n",
    "print(vector.vocabulary_)#nos given in alphabetical order"
   ]
  },
  {
   "cell_type": "code",
   "execution_count": null,
   "id": "valued-plenty",
   "metadata": {},
   "outputs": [],
   "source": []
  }
 ],
 "metadata": {
  "kernelspec": {
   "display_name": "Python 3",
   "language": "python",
   "name": "python3"
  },
  "language_info": {
   "codemirror_mode": {
    "name": "ipython",
    "version": 3
   },
   "file_extension": ".py",
   "mimetype": "text/x-python",
   "name": "python",
   "nbconvert_exporter": "python",
   "pygments_lexer": "ipython3",
   "version": "3.8.8"
  }
 },
 "nbformat": 4,
 "nbformat_minor": 5
}
